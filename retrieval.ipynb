{
 "cells": [
  {
   "cell_type": "code",
   "execution_count": 4,
   "metadata": {},
   "outputs": [],
   "source": [
    "import sys, re, os\n",
    "\n",
    "from langchain_community.document_loaders import PyPDFLoader\n",
    "from langchain.text_splitter import RecursiveCharacterTextSplitter\n",
    "\n",
    "def charge_split(path):\n",
    "    loader = PyPDFLoader(path)\n",
    "\n",
    "    chunk_size = 700\n",
    "    chunk_overlap = 150\n",
    "    # initialize the splitter\n",
    "    r_splitter = RecursiveCharacterTextSplitter(\n",
    "        chunk_size=chunk_size,\n",
    "        chunk_overlap=chunk_overlap\n",
    "    )\n",
    "    loader = loader.load_and_split(text_splitter=r_splitter)\n",
    "    return loader\n",
    "\n",
    "path = \"4- TRAL-TRA-31520-E-009.pdf\"\n",
    "loader = charge_split(path)"
   ]
  },
  {
   "cell_type": "code",
   "execution_count": 5,
   "metadata": {},
   "outputs": [],
   "source": [
    "from langchain_openai import AzureOpenAIEmbeddings\n",
    "from langchain_community.vectorstores import Chroma\n",
    "\n",
    "os.environ[\"OPENAI_API_TYPE\"] = \"api_key\"\n",
    "os.environ[\"OPENAI_API_KEY\"] = \"XXXXXXXXXXXXXXXXXXXXXXXX\"\n",
    "\n",
    "vectordb = Chroma.from_documents(\n",
    "  loader,\n",
    "  embedding=AzureOpenAIEmbeddings(\n",
    "      azure_endpoint='XXXXXXXXXXXXXXXXXXXXXXXXXXXX',\n",
    "      azure_deployment='XXXXXXXXXXXXXXXXXXXX'),\n",
    "  persist_directory='./data'\n",
    ")\n",
    "vectordb.persist()"
   ]
  },
  {
   "cell_type": "code",
   "execution_count": 15,
   "metadata": {},
   "outputs": [
    {
     "name": "stdout",
     "output_type": "stream",
     "text": [
      "\n",
      "\n",
      "- Inspeccionar condiciones operativas de la embarcación y equipos\n",
      "- Revisión del inventario de equipos y elementos de navegación \n",
      "- Alistar la embarcación menor de acuerdo a requerimientos del viaje, manual técnico y normativa fluvial \n",
      "- Describir los métodos y técnicas de alistamiento de la embarcación menor \n",
      "- Cumplir con normativa de seguridad y salud en el trabajo \n",
      "- Utilizar cartas náuticas \n",
      "- Manejar herramientas de medición náutica\n"
     ]
    }
   ],
   "source": [
    "from langchain.chains import RetrievalQA\n",
    "from langchain_openai import AzureOpenAI\n",
    "\n",
    "qa_chain = RetrievalQA.from_chain_type(\n",
    "    llm=AzureOpenAI(\n",
    "        api_key='XXXXXXXXXXXXXXXXXXXXXXXXXX',\n",
    "        azure_endpoint='XXXXXXXXXXXXXXXXXXXXXXXXXXXXX',\n",
    "        api_version='2023-12-01-preview',\n",
    "        azure_deployment='XXXXXXXXXXXXXXXXXXXXXX'\n",
    "        ),\n",
    "    retriever=vectordb.as_retriever(search_kwargs={'k': 7}),\n",
    "    return_source_documents=True\n",
    ")\n",
    "result = qa_chain.invoke({'query': 'que elementos de competencia contiene la unidad de competencia 1? separe en bullets su respuesta'})\n",
    "print(result['result'])"
   ]
  }
 ],
 "metadata": {
  "kernelspec": {
   "display_name": "Python 3",
   "language": "python",
   "name": "python3"
  },
  "language_info": {
   "codemirror_mode": {
    "name": "ipython",
    "version": 3
   },
   "file_extension": ".py",
   "mimetype": "text/x-python",
   "name": "python",
   "nbconvert_exporter": "python",
   "pygments_lexer": "ipython3",
   "version": "3.11.0"
  }
 },
 "nbformat": 4,
 "nbformat_minor": 2
}
